{
 "cells": [
  {
   "cell_type": "code",
   "execution_count": 1,
   "id": "7af4939c-0f1c-4fde-998c-5691d6c6e9d7",
   "metadata": {},
   "outputs": [],
   "source": [
    "from typing import Tuple\n",
    "\n",
    "import flax.linen as nn\n",
    "import jax\n",
    "import jax.numpy as jnp\n",
    "import jax.random\n",
    "import jax.scipy.stats as jst\n",
    "import tensorflow as tf\n",
    "import tqdm\n",
    "from sklearn import metrics"
   ]
  },
  {
   "cell_type": "code",
   "execution_count": 42,
   "id": "4ce77dd2-8148-4597-ab82-ba59fa736618",
   "metadata": {},
   "outputs": [],
   "source": [
    "def z_score(X):\n",
    "    return (X - jnp.mean(X, axis=0, keepdims=True)) / (jnp.std(X, axis=0, keepdims=True, ddof=1) + jnp.finfo(float).eps)\n"
   ]
  },
  {
   "cell_type": "code",
   "execution_count": 43,
   "id": "860a8f9b-2b7c-46dd-8be4-d4da7470d458",
   "metadata": {},
   "outputs": [],
   "source": [
    "(X_train, y_train), (X_test, y_test) = tf.keras.datasets.mnist.load_data()"
   ]
  },
  {
   "cell_type": "code",
   "execution_count": 44,
   "id": "65eb5832-9f4a-4e8c-8e12-14f1dceb8443",
   "metadata": {},
   "outputs": [],
   "source": [
    "X_train = z_score(X_train.reshape(len(X_train), -1))\n",
    "X_test = z_score(X_test.reshape(len(X_test), -1))\n",
    "\n",
    "y_train = jax.nn.one_hot(y_train, 10)\n",
    "y_test = jax.nn.one_hot(y_test, 10)"
   ]
  },
  {
   "cell_type": "code",
   "execution_count": 52,
   "id": "572ae00c-c4e6-42c6-ba4c-17c494fe613b",
   "metadata": {},
   "outputs": [],
   "source": [
    "def init_mu(shape, rng):\n",
    "    return 0.1 * jax.random.normal(rng, shape)\n",
    "\n",
    "\n",
    "def init_rho(shape, rng):\n",
    "    return -3 + jax.random.normal(rng, shape)\n",
    "\n",
    "\n",
    "def init_theta(shape, rng):\n",
    "    a, b = jax.random.split(rng)\n",
    "    return (init_mu(shape, a), init_rho(shape, b))\n",
    "\n",
    "\n",
    "def init_Wb(shape, rng):\n",
    "    a, b = jax.random.split(rng)\n",
    "    return (init_theta(shape, a), init_theta(shape[-1:], b))\n"
   ]
  },
  {
   "cell_type": "markdown",
   "id": "163b8ec6-4ced-4541-a35a-745dc2b10539",
   "metadata": {},
   "source": [
    "$$\n",
    "f(w, \\theta) = \\log q(w | \\theta) - \\log p(w) - \\log p(D | w)\n",
    "$$\n",
    "\n"
   ]
  },
  {
   "cell_type": "code",
   "execution_count": 25,
   "id": "1c78c4a9-d2b4-462e-af88-48fb1fac58dc",
   "metadata": {},
   "outputs": [],
   "source": [
    "Theta = Tuple[jnp.ndarray, jnp.ndarray]\n",
    "Params = Tuple[Theta, Theta, Theta]\n",
    "\n",
    "\n",
    "def sample_w(mu: jnp.ndarray, rho: jnp.ndarray, rng_key: jnp.ndarray) -> jnp.ndarray:\n",
    "    eps: jnp.ndarray = jax.random.normal(rng_key, mu.shape)\n",
    "    w = mu + jnp.log(1 + jnp.exp(rho)) * eps\n",
    "    return w\n",
    "\n",
    "\n",
    "def bbb_mlp(params: Params, X: jnp.ndarray, rng_key: jnp.ndarray) -> Tuple[jnp.ndarray, Tuple[jnp.ndarray, ...]]:\n",
    "    theta_W0, theta_b0, theta_W1, theta_b1, theta_W2, theta_b2 = params\n",
    "    k0, k1, k2, k3, k4, k5 = jax.random.split(rng_key, 6)\n",
    "\n",
    "    W0 = sample_w(*theta_W0, k0)\n",
    "    b0 = sample_w(*theta_b0, k1)\n",
    "    \n",
    "    W1 = sample_w(*theta_W1, k2)\n",
    "    b1 = sample_w(*theta_b1, k3)\n",
    "    \n",
    "    W2 = sample_w(*theta_W2, k4)\n",
    "    b2 = sample_w(*theta_b2, k5)\n",
    "    return nn.relu(nn.relu(X @ W0 + b0) @ W1 + b1) @ W2 + b2, (W0, W1, W2)\n",
    "\n",
    "\n",
    "def z_score(w, mu, sigma):\n",
    "    return (w - mu) / sigma\n",
    "\n",
    "\n",
    "def kl_div(p: Params) -> jnp.ndarray:\n",
    "    kl = jnp.array(0)\n",
    "    \n",
    "    mu_p, sigma_p = jnp.array(0), jnp.exp(-2)\n",
    "    for (mu_q, rho_q) in p:\n",
    "        sigma_q = jnp.log(1 + jnp.exp(rho_q))\n",
    "        kl += jnp.sum(2 * jnp.log(sigma_p / sigma_q) - 1 + (sigma_q / sigma_p) ** 2 + ((mu_p - mu_q) / sigma_p) ** 2)\n",
    "    return 0.5 * kl\n",
    "\n",
    "\n",
    "@jax.jit\n",
    "def train_step(\n",
    "    params: Params,\n",
    "    X: jnp.ndarray,\n",
    "    y: jnp.ndarray,\n",
    "    rng_key: jnp.ndarray,\n",
    "    n_posterior_samples: int = 10,\n",
    "    eta: float = 1e-3,\n",
    "    beta: float = 0.05,\n",
    ") -> Tuple[Params, jnp.ndarray, jnp.ndarray]:\n",
    "    def loss_fn(p: Params, k: jnp.ndarray) -> jnp.ndarray:\n",
    "        y_hat, _ = bbb_mlp(p, X, k)\n",
    "        loss = (\n",
    "            # log q(w | theta) / p(w)\n",
    "            beta * kl_div(p)\n",
    "            # log p(D | theta)\n",
    "            - jnp.mean(\n",
    "                jnp.sum(y * nn.log_softmax(y_hat, axis=-1), axis=-1)\n",
    "            )\n",
    "        )\n",
    "        return loss\n",
    "\n",
    "    G = jax.tree_map(lambda _: jnp.zeros_like(_), params)\n",
    "    f = jax.value_and_grad(loss_fn)\n",
    "    L = jnp.array(0)\n",
    "    for i in range(n_posterior_samples):\n",
    "        rng_key, key = jax.random.split(rng_key)\n",
    "        l, g = f(params, key)\n",
    "        L += l\n",
    "        G = jax.tree_map(lambda c, k: c + k, g, G)\n",
    "\n",
    "    # G = jax.tree_map(lambda g: g / n_posterior_samples, G)\n",
    "    return update_params(params, G, eta=eta), L / n_posterior_samples, rng_key\n",
    "\n",
    "\n",
    "def update_params(params: Params, gradients: Params, eta: float) -> Params:\n",
    "    return jax.tree_map(lambda w, g: w - eta * g, params, gradients)\n"
   ]
  },
  {
   "cell_type": "code",
   "execution_count": 6,
   "id": "95505b33-f5cb-4a87-9987-3902e692c48d",
   "metadata": {
    "tags": []
   },
   "outputs": [],
   "source": [
    "def get_batch_indices(rng: jnp.ndarray, dataset_size: int, batch_size: int) -> jnp.ndarray:\n",
    "    steps_per_epoch = dataset_size // batch_size\n",
    "\n",
    "    perms = jax.random.permutation(rng, dataset_size)\n",
    "    perms = perms[:steps_per_epoch * batch_size]  # skip incomplete batch\n",
    "    perms = perms.reshape((steps_per_epoch, batch_size))\n",
    "    return perms"
   ]
  },
  {
   "cell_type": "code",
   "execution_count": 53,
   "id": "c5c9cd50-2fb6-424d-bbe7-057127f41961",
   "metadata": {},
   "outputs": [],
   "source": [
    "l0 = (28 ** 2, 512)\n",
    "l1 = (512, 256)\n",
    "l2 = (256, 10)\n",
    "\n",
    "p0 = ()\n",
    "for l in [\n",
    "    (28 ** 2, 512),\n",
    "    (512, 256),\n",
    "    (256, 10),\n",
    "]:\n",
    "    p0 = p0 + init_Wb(l, rng)"
   ]
  },
  {
   "cell_type": "code",
   "execution_count": 8,
   "id": "9d4080d2-8d78-4d66-8765-4758d36a858b",
   "metadata": {},
   "outputs": [],
   "source": [
    "rng = jax.random.PRNGKey(0)"
   ]
  },
  {
   "cell_type": "code",
   "execution_count": 9,
   "id": "710b811d-2abb-47e0-bb9f-73b675a31830",
   "metadata": {},
   "outputs": [],
   "source": [
    "def with_beta(I):\n",
    "    M = len(I)\n",
    "    for ix, i in enumerate(I, 1):\n",
    "        yield (2 ** (M - ix)) / (2 ** M - 1), i\n"
   ]
  },
  {
   "cell_type": "code",
   "execution_count": 55,
   "id": "24257728-b112-48dd-9adc-e8945c875b95",
   "metadata": {
    "tags": []
   },
   "outputs": [
    {
     "name": "stderr",
     "output_type": "stream",
     "text": [
      "Epoch 0 (loss=2.405): 100%|█████████████████████████████████████████████████████████████████████████████████████| 468/468 [00:29<00:00, 15.74it/s]\n",
      "Epoch 1 (loss=2.266): 100%|█████████████████████████████████████████████████████████████████████████████████████| 468/468 [00:29<00:00, 15.77it/s]\n",
      "Epoch 2 (loss=2.063): 100%|█████████████████████████████████████████████████████████████████████████████████████| 468/468 [00:33<00:00, 14.17it/s]\n",
      "Epoch 3 (loss=2.038): 100%|█████████████████████████████████████████████████████████████████████████████████████| 468/468 [00:33<00:00, 13.98it/s]\n",
      "Epoch 4 (loss=1.907): 100%|█████████████████████████████████████████████████████████████████████████████████████| 468/468 [00:33<00:00, 14.06it/s]\n",
      "Epoch 5 (loss=1.885): 100%|█████████████████████████████████████████████████████████████████████████████████████| 468/468 [00:33<00:00, 13.98it/s]\n",
      "Epoch 6 (loss=1.797): 100%|█████████████████████████████████████████████████████████████████████████████████████| 468/468 [00:33<00:00, 14.08it/s]\n",
      "Epoch 7 (loss=1.921): 100%|█████████████████████████████████████████████████████████████████████████████████████| 468/468 [00:32<00:00, 14.35it/s]\n",
      "Epoch 8 (loss=2.019): 100%|█████████████████████████████████████████████████████████████████████████████████████| 468/468 [00:34<00:00, 13.39it/s]\n",
      "Epoch 9 (loss=1.918): 100%|█████████████████████████████████████████████████████████████████████████████████████| 468/468 [00:35<00:00, 13.18it/s]\n",
      "Epoch 10 (loss=1.868): 100%|████████████████████████████████████████████████████████████████████████████████████| 468/468 [00:35<00:00, 13.19it/s]\n",
      "Epoch 11 (loss=2.013): 100%|████████████████████████████████████████████████████████████████████████████████████| 468/468 [00:35<00:00, 13.32it/s]\n",
      "Epoch 12 (loss=1.812):  98%|██████████████████████████████████████████████████████████████████████████████████▏ | 458/468 [00:35<00:00, 13.04it/s]\n"
     ]
    },
    {
     "ename": "KeyboardInterrupt",
     "evalue": "",
     "output_type": "error",
     "traceback": [
      "\u001b[0;31m---------------------------------------------------------------------------\u001b[0m",
      "\u001b[0;31mKeyboardInterrupt\u001b[0m                         Traceback (most recent call last)",
      "Cell \u001b[0;32mIn[55], line 8\u001b[0m\n\u001b[1;32m      6\u001b[0m I \u001b[38;5;241m=\u001b[39m tqdm\u001b[38;5;241m.\u001b[39mtqdm(ix, desc\u001b[38;5;241m=\u001b[39m\u001b[38;5;124mf\u001b[39m\u001b[38;5;124m\"\u001b[39m\u001b[38;5;124mEpoch \u001b[39m\u001b[38;5;132;01m{\u001b[39;00me\u001b[38;5;132;01m}\u001b[39;00m\u001b[38;5;124m\"\u001b[39m)\n\u001b[1;32m      7\u001b[0m \u001b[38;5;28;01mfor\u001b[39;00m beta, i \u001b[38;5;129;01min\u001b[39;00m with_beta(I):\n\u001b[0;32m----> 8\u001b[0m     p, l, r \u001b[38;5;241m=\u001b[39m \u001b[43mtrain_step\u001b[49m\u001b[43m(\u001b[49m\u001b[43mp\u001b[49m\u001b[43m,\u001b[49m\u001b[43m \u001b[49m\u001b[43mX_train\u001b[49m\u001b[43m[\u001b[49m\u001b[43mi\u001b[49m\u001b[43m]\u001b[49m\u001b[43m,\u001b[49m\u001b[43m \u001b[49m\u001b[43my_train\u001b[49m\u001b[43m[\u001b[49m\u001b[43mi\u001b[49m\u001b[43m]\u001b[49m\u001b[43m,\u001b[49m\u001b[43m \u001b[49m\u001b[43mr\u001b[49m\u001b[43m,\u001b[49m\u001b[43m \u001b[49m\u001b[43meta\u001b[49m\u001b[38;5;241;43m=\u001b[39;49m\u001b[38;5;241;43m1e-3\u001b[39;49m\u001b[43m,\u001b[49m\u001b[43m \u001b[49m\u001b[43mbeta\u001b[49m\u001b[38;5;241;43m=\u001b[39;49m\u001b[43mbeta\u001b[49m\u001b[43m)\u001b[49m\n\u001b[1;32m      9\u001b[0m     I\u001b[38;5;241m.\u001b[39mset_description(\u001b[38;5;124mf\u001b[39m\u001b[38;5;124m\"\u001b[39m\u001b[38;5;124mEpoch \u001b[39m\u001b[38;5;132;01m{\u001b[39;00me\u001b[38;5;132;01m}\u001b[39;00m\u001b[38;5;124m (loss=\u001b[39m\u001b[38;5;132;01m{\u001b[39;00ml\u001b[38;5;241m.\u001b[39mitem()\u001b[38;5;132;01m:\u001b[39;00m\u001b[38;5;124m.3f\u001b[39m\u001b[38;5;132;01m}\u001b[39;00m\u001b[38;5;124m)\u001b[39m\u001b[38;5;124m\"\u001b[39m)\n\u001b[1;32m     10\u001b[0m     I\u001b[38;5;241m.\u001b[39mrefresh()\n",
      "\u001b[0;31mKeyboardInterrupt\u001b[0m: "
     ]
    }
   ],
   "source": [
    "r = rng\n",
    "p = p0\n",
    "# p = (W0, W1)\n",
    "for e in range(50):\n",
    "    ix = get_batch_indices(r, len(X_train), 128)\n",
    "    I = tqdm.tqdm(ix, desc=f\"Epoch {e}\")\n",
    "    for beta, i in with_beta(I):\n",
    "        p, l, r = train_step(p, X_train[i], y_train[i], r, eta=1e-3, beta=beta)\n",
    "        I.set_description(f\"Epoch {e} (loss={l.item():.3f})\")\n",
    "        I.refresh()"
   ]
  },
  {
   "cell_type": "code",
   "execution_count": 56,
   "id": "31d9097f-0c9b-4e5f-9056-596ecd53b660",
   "metadata": {},
   "outputs": [],
   "source": [
    "y_hat, _ = bbb_mlp(p, X_test, r)"
   ]
  },
  {
   "cell_type": "code",
   "execution_count": 57,
   "id": "fe222fc0-4fd9-4f90-bd53-7d675a437b8a",
   "metadata": {},
   "outputs": [
    {
     "name": "stdout",
     "output_type": "stream",
     "text": [
      "              precision    recall  f1-score   support\n",
      "\n",
      "           0       0.35      0.89      0.50       980\n",
      "           1       0.81      0.96      0.88      1135\n",
      "           2       0.27      0.25      0.26      1032\n",
      "           3       0.35      0.07      0.12      1010\n",
      "           4       0.24      0.06      0.09       982\n",
      "           5       0.14      0.13      0.14       892\n",
      "           6       0.26      0.07      0.11       958\n",
      "           7       0.31      0.88      0.45      1028\n",
      "           8       0.21      0.14      0.17       974\n",
      "           9       0.25      0.02      0.04      1009\n",
      "\n",
      "    accuracy                           0.36     10000\n",
      "   macro avg       0.32      0.35      0.28     10000\n",
      "weighted avg       0.33      0.36      0.29     10000\n",
      "\n"
     ]
    }
   ],
   "source": [
    "print(\n",
    "    metrics.classification_report(\n",
    "        y_test.argmax(axis=1),\n",
    "        y_hat.argmax(axis=1)\n",
    "    )\n",
    ")"
   ]
  },
  {
   "cell_type": "code",
   "execution_count": 58,
   "id": "d0082edd-55ff-4f7f-bc3e-ba533500ea85",
   "metadata": {},
   "outputs": [
    {
     "data": {
      "text/plain": [
       "0.8164770253238245"
      ]
     },
     "execution_count": 58,
     "metadata": {},
     "output_type": "execute_result"
    }
   ],
   "source": [
    "metrics.roc_auc_score(y_test, nn.softmax(y_hat, axis=-1))"
   ]
  },
  {
   "cell_type": "code",
   "execution_count": 14,
   "id": "d23687d9-9e4c-4c2a-991d-6c61410e3810",
   "metadata": {},
   "outputs": [],
   "source": [
    "def calculate_kl(p, w):\n",
    "    kl = jnp.array(0)\n",
    "    mu_p, sigma_p = jnp.array(0), jnp.exp(-2)\n",
    "    for W, (mu_q, rho_q) in zip(w, p):\n",
    "        sigma_q = jnp.log(1 + jnp.exp(rho_q))\n",
    "        kl += jnp.sum(2 * jnp.log(sigma_p / sigma_q) - 1 + (sigma_q / sigma_p) ** 2 + ((mu_p - mu_q) / sigma_p) ** 2)\n",
    "    return 0.5 * kl"
   ]
  },
  {
   "cell_type": "code",
   "execution_count": 16,
   "id": "e74e254f-7358-4b44-a834-a2c73e8b5c24",
   "metadata": {},
   "outputs": [],
   "source": [
    "_, w = bbb_mlp(p, X_test, rng)"
   ]
  },
  {
   "cell_type": "code",
   "execution_count": 18,
   "id": "d77f4eb6-80d9-4e06-8c7b-88d577d7cc12",
   "metadata": {},
   "outputs": [
    {
     "data": {
      "text/plain": [
       "Array(3495.823, dtype=float32)"
      ]
     },
     "execution_count": 18,
     "metadata": {},
     "output_type": "execute_result"
    }
   ],
   "source": [
    "kl_div(p, w)"
   ]
  },
  {
   "cell_type": "code",
   "execution_count": 19,
   "id": "f0caca32-0148-42d4-aad7-fdad4d66e0ee",
   "metadata": {},
   "outputs": [
    {
     "data": {
      "text/plain": [
       "Array(3549.7795, dtype=float32)"
      ]
     },
     "execution_count": 19,
     "metadata": {},
     "output_type": "execute_result"
    }
   ],
   "source": [
    "calculate_kl(p, w)"
   ]
  }
 ],
 "metadata": {
  "kernelspec": {
   "display_name": "Python 3 (ipykernel)",
   "language": "python",
   "name": "python3"
  },
  "language_info": {
   "codemirror_mode": {
    "name": "ipython",
    "version": 3
   },
   "file_extension": ".py",
   "mimetype": "text/x-python",
   "name": "python",
   "nbconvert_exporter": "python",
   "pygments_lexer": "ipython3",
   "version": "3.8.2"
  }
 },
 "nbformat": 4,
 "nbformat_minor": 5
}
