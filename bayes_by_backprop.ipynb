{
 "cells": [
  {
   "cell_type": "code",
   "execution_count": 1,
   "id": "7af4939c-0f1c-4fde-998c-5691d6c6e9d7",
   "metadata": {},
   "outputs": [],
   "source": [
    "from typing import Tuple\n",
    "\n",
    "import flax.linen as nn\n",
    "import jax\n",
    "import jax.numpy as jnp\n",
    "import jax.random\n",
    "import jax.scipy.stats as jst\n",
    "import tensorflow as tf\n",
    "import tqdm\n",
    "from sklearn import metrics"
   ]
  },
  {
   "cell_type": "code",
   "execution_count": 2,
   "id": "860a8f9b-2b7c-46dd-8be4-d4da7470d458",
   "metadata": {},
   "outputs": [],
   "source": [
    "(X_train, y_train), (X_test, y_test) = tf.keras.datasets.mnist.load_data()"
   ]
  },
  {
   "cell_type": "code",
   "execution_count": 3,
   "id": "65eb5832-9f4a-4e8c-8e12-14f1dceb8443",
   "metadata": {},
   "outputs": [],
   "source": [
    "X_train = jnp.array(X_train.reshape(len(X_train), -1) / 255)\n",
    "X_test = jnp.array(X_test.reshape(len(X_test), -1) / 255)\n",
    "\n",
    "y_train = jax.nn.one_hot(y_train, 10)\n",
    "y_test = jax.nn.one_hot(y_test, 10)"
   ]
  },
  {
   "cell_type": "code",
   "execution_count": 4,
   "id": "572ae00c-c4e6-42c6-ba4c-17c494fe613b",
   "metadata": {},
   "outputs": [],
   "source": [
    "def init_mu(shape):\n",
    "    return jnp.zeros(shape)\n",
    "\n",
    "\n",
    "def init_rho(shape):\n",
    "    sigma2 = jnp.ones(shape) * jnp.exp(-2)\n",
    "    return jnp.log(jnp.exp(sigma2) - 1)"
   ]
  },
  {
   "cell_type": "markdown",
   "id": "163b8ec6-4ced-4541-a35a-745dc2b10539",
   "metadata": {},
   "source": [
    "$$\n",
    "f(w, \\theta) = \\log q(w | \\theta) - \\log p(w) - \\log p(D | w)\n",
    "$$\n",
    "\n"
   ]
  },
  {
   "cell_type": "code",
   "execution_count": 25,
   "id": "1c78c4a9-d2b4-462e-af88-48fb1fac58dc",
   "metadata": {},
   "outputs": [],
   "source": [
    "\n",
    "Theta = Tuple[jnp.ndarray, jnp.ndarray]\n",
    "Params = Tuple[Theta, Theta, Theta]\n",
    "\n",
    "\n",
    "def sample_w(mu: jnp.ndarray, rho: jnp.ndarray, rng_key: jnp.ndarray) -> jnp.ndarray:\n",
    "    eps: jnp.ndarray = jax.random.normal(rng_key, mu.shape)\n",
    "    w = mu + jnp.log(1 + jnp.exp(rho)) * eps\n",
    "    return w\n",
    "\n",
    "\n",
    "def bbb_mlp(params: Params, X: jnp.ndarray, rng_key: jnp.ndarray) -> Tuple[jnp.ndarray, Tuple[jnp.ndarray, ...]]:\n",
    "    theta_W0, theta_b0, theta_W1, theta_b1, theta_W2, theta_b2 = params\n",
    "    k0, k1, k2, k3, k4, k5 = jax.random.split(rng_key, 6)\n",
    "\n",
    "    W0 = sample_w(*theta_W0, k0)\n",
    "    b0 = sample_w(*theta_b0, k1)\n",
    "    \n",
    "    W1 = sample_w(*theta_W1, k2)\n",
    "    b1 = sample_w(*theta_b1, k3)\n",
    "    \n",
    "    W2 = sample_w(*theta_W2, k4)\n",
    "    b2 = sample_w(*theta_b2, k5)\n",
    "    return nn.relu(nn.relu(X @ W0 + b0) @ W1 + b1) @ W2 + b2, (W0, W1, W2)\n",
    "\n",
    "\n",
    "def z_score(w, mu, sigma):\n",
    "    return (w - mu) / sigma\n",
    "\n",
    "\n",
    "def kl_div(p: Params) -> jnp.ndarray:\n",
    "    kl = jnp.array(0)\n",
    "    \n",
    "    mu_p, sigma_p = jnp.array(0), jnp.exp(-2)\n",
    "    for (mu_q, rho_q) in p:\n",
    "        sigma_q = jnp.log(1 + jnp.exp(rho_q))\n",
    "        kl += jnp.sum(2 * jnp.log(sigma_p / sigma_q) - 1 + (sigma_q / sigma_p) ** 2 + ((mu_p - mu_q) / sigma_p) ** 2)\n",
    "    return 0.5 * kl\n",
    "\n",
    "\n",
    "@jax.jit\n",
    "def train_step(\n",
    "    params: Params,\n",
    "    X: jnp.ndarray,\n",
    "    y: jnp.ndarray,\n",
    "    rng_key: jnp.ndarray,\n",
    "    n_posterior_samples: int = 10,\n",
    "    eta: float = 1e-3,\n",
    "    beta: float = 0.05,\n",
    ") -> Tuple[Params, jnp.ndarray, jnp.ndarray]:\n",
    "    def loss_fn(p: Params, k: jnp.ndarray) -> jnp.ndarray:\n",
    "        y_hat, _ = bbb_mlp(p, X, k)\n",
    "        loss = (\n",
    "            # log q(w | theta) / p(w)\n",
    "            beta * kl_div(p)\n",
    "            # log p(D | theta)\n",
    "            - jnp.mean(\n",
    "                jnp.sum(y * nn.log_softmax(y_hat, axis=-1), axis=-1)\n",
    "            )\n",
    "        )\n",
    "        return loss\n",
    "\n",
    "    G = jax.tree_map(lambda _: jnp.zeros_like(_), params)\n",
    "    f = jax.value_and_grad(loss_fn)\n",
    "    L = jnp.array(0)\n",
    "    for i in range(n_posterior_samples):\n",
    "        rng_key, key = jax.random.split(rng_key)\n",
    "        l, g = f(params, key)\n",
    "        L += l\n",
    "        G = jax.tree_map(lambda c, k: c + k, g, G)\n",
    "\n",
    "    # G = jax.tree_map(lambda g: g / n_posterior_samples, G)\n",
    "    return update_params(params, G, eta=eta), L / n_posterior_samples, rng_key\n",
    "\n",
    "\n",
    "def update_params(params: Params, gradients: Params, eta: float) -> Params:\n",
    "    return jax.tree_map(lambda w, g: w - eta * g, params, gradients)\n"
   ]
  },
  {
   "cell_type": "code",
   "execution_count": 6,
   "id": "95505b33-f5cb-4a87-9987-3902e692c48d",
   "metadata": {
    "tags": []
   },
   "outputs": [],
   "source": [
    "def get_batch_indices(rng: jnp.ndarray, dataset_size: int, batch_size: int) -> jnp.ndarray:\n",
    "    steps_per_epoch = dataset_size // batch_size\n",
    "\n",
    "    perms = jax.random.permutation(rng, dataset_size)\n",
    "    perms = perms[:steps_per_epoch * batch_size]  # skip incomplete batch\n",
    "    perms = perms.reshape((steps_per_epoch, batch_size))\n",
    "    return perms"
   ]
  },
  {
   "cell_type": "code",
   "execution_count": 26,
   "id": "c5c9cd50-2fb6-424d-bbe7-057127f41961",
   "metadata": {},
   "outputs": [],
   "source": [
    "l0 = (28 ** 2, 512)\n",
    "l1 = (512, 256)\n",
    "l2 = (256, 10)\n",
    "\n",
    "t0 = (init_mu(l0), init_rho(l0))\n",
    "b0 = (init_mu(l0[-1]), init_rho(l0[-1]))\n",
    "\n",
    "t1 = (init_mu(l1), init_rho(l1))\n",
    "b1 = (init_mu(l1[-1]), init_rho(l1[-1]))\n",
    "\n",
    "t2 = (init_mu(l2), init_rho(l2))\n",
    "b2 = (init_mu(l2[-1]), init_rho(l2[-1]))\n",
    "\n",
    "p0 = (t0, b0, t1, b1, t2, b2)"
   ]
  },
  {
   "cell_type": "code",
   "execution_count": 8,
   "id": "9d4080d2-8d78-4d66-8765-4758d36a858b",
   "metadata": {},
   "outputs": [],
   "source": [
    "rng = jax.random.PRNGKey(0)"
   ]
  },
  {
   "cell_type": "code",
   "execution_count": 9,
   "id": "710b811d-2abb-47e0-bb9f-73b675a31830",
   "metadata": {},
   "outputs": [],
   "source": [
    "def with_beta(I):\n",
    "    M = len(I)\n",
    "    for ix, i in enumerate(I, 1):\n",
    "        yield (2 ** (M - ix)) / (2 ** M - 1), i\n"
   ]
  },
  {
   "cell_type": "code",
   "execution_count": 27,
   "id": "24257728-b112-48dd-9adc-e8945c875b95",
   "metadata": {
    "tags": []
   },
   "outputs": [
    {
     "name": "stderr",
     "output_type": "stream",
     "text": [
      "Epoch 0 (loss=3.333): 100%|█████████████████████████████████████████████████████████████████████████████████████| 468/468 [00:44<00:00, 10.62it/s]\n",
      "Epoch 1 (loss=3.210): 100%|█████████████████████████████████████████████████████████████████████████████████████| 468/468 [00:28<00:00, 16.33it/s]\n",
      "Epoch 2 (loss=3.084): 100%|█████████████████████████████████████████████████████████████████████████████████████| 468/468 [00:28<00:00, 16.18it/s]\n",
      "Epoch 3 (loss=3.046): 100%|█████████████████████████████████████████████████████████████████████████████████████| 468/468 [00:28<00:00, 16.14it/s]\n",
      "Epoch 4 (loss=3.003): 100%|█████████████████████████████████████████████████████████████████████████████████████| 468/468 [00:29<00:00, 15.88it/s]\n",
      "Epoch 5 (loss=3.017): 100%|█████████████████████████████████████████████████████████████████████████████████████| 468/468 [00:29<00:00, 15.63it/s]\n",
      "Epoch 6 (loss=3.001): 100%|█████████████████████████████████████████████████████████████████████████████████████| 468/468 [00:29<00:00, 15.94it/s]\n",
      "Epoch 7 (loss=3.798):  17%|██████████████▎                                                                       | 78/468 [00:05<00:26, 14.72it/s]\n"
     ]
    },
    {
     "ename": "KeyboardInterrupt",
     "evalue": "",
     "output_type": "error",
     "traceback": [
      "\u001b[0;31m---------------------------------------------------------------------------\u001b[0m",
      "\u001b[0;31mKeyboardInterrupt\u001b[0m                         Traceback (most recent call last)",
      "Cell \u001b[0;32mIn[27], line 8\u001b[0m\n\u001b[1;32m      6\u001b[0m I \u001b[38;5;241m=\u001b[39m tqdm\u001b[38;5;241m.\u001b[39mtqdm(ix, desc\u001b[38;5;241m=\u001b[39m\u001b[38;5;124mf\u001b[39m\u001b[38;5;124m\"\u001b[39m\u001b[38;5;124mEpoch \u001b[39m\u001b[38;5;132;01m{\u001b[39;00me\u001b[38;5;132;01m}\u001b[39;00m\u001b[38;5;124m\"\u001b[39m)\n\u001b[1;32m      7\u001b[0m \u001b[38;5;28;01mfor\u001b[39;00m beta, i \u001b[38;5;129;01min\u001b[39;00m with_beta(I):\n\u001b[0;32m----> 8\u001b[0m     p, l, r \u001b[38;5;241m=\u001b[39m \u001b[43mtrain_step\u001b[49m\u001b[43m(\u001b[49m\u001b[43mp\u001b[49m\u001b[43m,\u001b[49m\u001b[43m \u001b[49m\u001b[43mX_train\u001b[49m\u001b[43m[\u001b[49m\u001b[43mi\u001b[49m\u001b[43m]\u001b[49m\u001b[43m,\u001b[49m\u001b[43m \u001b[49m\u001b[43my_train\u001b[49m\u001b[43m[\u001b[49m\u001b[43mi\u001b[49m\u001b[43m]\u001b[49m\u001b[43m,\u001b[49m\u001b[43m \u001b[49m\u001b[43mr\u001b[49m\u001b[43m,\u001b[49m\u001b[43m \u001b[49m\u001b[43meta\u001b[49m\u001b[38;5;241;43m=\u001b[39;49m\u001b[38;5;241;43m1e-3\u001b[39;49m\u001b[43m,\u001b[49m\u001b[43m \u001b[49m\u001b[43mbeta\u001b[49m\u001b[38;5;241;43m=\u001b[39;49m\u001b[43mbeta\u001b[49m\u001b[43m)\u001b[49m\n\u001b[1;32m      9\u001b[0m     I\u001b[38;5;241m.\u001b[39mset_description(\u001b[38;5;124mf\u001b[39m\u001b[38;5;124m\"\u001b[39m\u001b[38;5;124mEpoch \u001b[39m\u001b[38;5;132;01m{\u001b[39;00me\u001b[38;5;132;01m}\u001b[39;00m\u001b[38;5;124m (loss=\u001b[39m\u001b[38;5;132;01m{\u001b[39;00ml\u001b[38;5;241m.\u001b[39mitem()\u001b[38;5;132;01m:\u001b[39;00m\u001b[38;5;124m.3f\u001b[39m\u001b[38;5;132;01m}\u001b[39;00m\u001b[38;5;124m)\u001b[39m\u001b[38;5;124m\"\u001b[39m)\n\u001b[1;32m     10\u001b[0m     I\u001b[38;5;241m.\u001b[39mrefresh()\n",
      "\u001b[0;31mKeyboardInterrupt\u001b[0m: "
     ]
    }
   ],
   "source": [
    "r = rng\n",
    "p = p0\n",
    "# p = (W0, W1)\n",
    "for e in range(50):\n",
    "    ix = get_batch_indices(r, len(X_train), 128)\n",
    "    I = tqdm.tqdm(ix, desc=f\"Epoch {e}\")\n",
    "    for beta, i in with_beta(I):\n",
    "        p, l, r = train_step(p, X_train[i], y_train[i], r, eta=1e-3, beta=beta)\n",
    "        I.set_description(f\"Epoch {e} (loss={l.item():.3f})\")\n",
    "        I.refresh()"
   ]
  },
  {
   "cell_type": "code",
   "execution_count": 22,
   "id": "31d9097f-0c9b-4e5f-9056-596ecd53b660",
   "metadata": {},
   "outputs": [],
   "source": [
    "y_hat, _ = bbb_mlp(p, X_test, r)"
   ]
  },
  {
   "cell_type": "code",
   "execution_count": 23,
   "id": "fe222fc0-4fd9-4f90-bd53-7d675a437b8a",
   "metadata": {},
   "outputs": [
    {
     "name": "stdout",
     "output_type": "stream",
     "text": [
      "              precision    recall  f1-score   support\n",
      "\n",
      "           0       0.00      0.00      0.00       980\n",
      "           1       0.01      0.00      0.00      1135\n",
      "           2       0.06      0.06      0.06      1032\n",
      "           3       0.24      0.05      0.08      1010\n",
      "           4       0.10      0.12      0.11       982\n",
      "           5       0.10      0.42      0.16       892\n",
      "           6       0.15      0.04      0.07       958\n",
      "           7       0.09      0.08      0.09      1028\n",
      "           8       0.03      0.02      0.02       974\n",
      "           9       0.06      0.10      0.08      1009\n",
      "\n",
      "    accuracy                           0.09     10000\n",
      "   macro avg       0.08      0.09      0.07     10000\n",
      "weighted avg       0.08      0.09      0.06     10000\n",
      "\n"
     ]
    }
   ],
   "source": [
    "print(\n",
    "    metrics.classification_report(\n",
    "        y_test.argmax(axis=1),\n",
    "        y_hat.argmax(axis=1)\n",
    "    )\n",
    ")"
   ]
  },
  {
   "cell_type": "code",
   "execution_count": 24,
   "id": "d0082edd-55ff-4f7f-bc3e-ba533500ea85",
   "metadata": {},
   "outputs": [
    {
     "data": {
      "text/plain": [
       "0.4743718184856297"
      ]
     },
     "execution_count": 24,
     "metadata": {},
     "output_type": "execute_result"
    }
   ],
   "source": [
    "metrics.roc_auc_score(y_test, nn.softmax(y_hat, axis=-1))"
   ]
  },
  {
   "cell_type": "code",
   "execution_count": 14,
   "id": "d23687d9-9e4c-4c2a-991d-6c61410e3810",
   "metadata": {},
   "outputs": [],
   "source": [
    "def calculate_kl(p, w):\n",
    "    kl = jnp.array(0)\n",
    "    mu_p, sigma_p = jnp.array(0), jnp.exp(-2)\n",
    "    for W, (mu_q, rho_q) in zip(w, p):\n",
    "        sigma_q = jnp.log(1 + jnp.exp(rho_q))\n",
    "        kl += jnp.sum(2 * jnp.log(sigma_p / sigma_q) - 1 + (sigma_q / sigma_p) ** 2 + ((mu_p - mu_q) / sigma_p) ** 2)\n",
    "    return 0.5 * kl"
   ]
  },
  {
   "cell_type": "code",
   "execution_count": 16,
   "id": "e74e254f-7358-4b44-a834-a2c73e8b5c24",
   "metadata": {},
   "outputs": [],
   "source": [
    "_, w = bbb_mlp(p, X_test, rng)"
   ]
  },
  {
   "cell_type": "code",
   "execution_count": 18,
   "id": "d77f4eb6-80d9-4e06-8c7b-88d577d7cc12",
   "metadata": {},
   "outputs": [
    {
     "data": {
      "text/plain": [
       "Array(3495.823, dtype=float32)"
      ]
     },
     "execution_count": 18,
     "metadata": {},
     "output_type": "execute_result"
    }
   ],
   "source": [
    "kl_div(p, w)"
   ]
  },
  {
   "cell_type": "code",
   "execution_count": 19,
   "id": "f0caca32-0148-42d4-aad7-fdad4d66e0ee",
   "metadata": {},
   "outputs": [
    {
     "data": {
      "text/plain": [
       "Array(3549.7795, dtype=float32)"
      ]
     },
     "execution_count": 19,
     "metadata": {},
     "output_type": "execute_result"
    }
   ],
   "source": [
    "calculate_kl(p, w)"
   ]
  }
 ],
 "metadata": {
  "kernelspec": {
   "display_name": "Python 3 (ipykernel)",
   "language": "python",
   "name": "python3"
  },
  "language_info": {
   "codemirror_mode": {
    "name": "ipython",
    "version": 3
   },
   "file_extension": ".py",
   "mimetype": "text/x-python",
   "name": "python",
   "nbconvert_exporter": "python",
   "pygments_lexer": "ipython3",
   "version": "3.8.2"
  }
 },
 "nbformat": 4,
 "nbformat_minor": 5
}
